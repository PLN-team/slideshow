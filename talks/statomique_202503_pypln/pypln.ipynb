{
  "cells": [
    {
      "cell_type": "markdown",
      "metadata": {},
      "source": [
        "## `pyPLNmodels`: motivation\n",
        "\n",
        "#### Supervised learning: cell type classification\n"
      ],
      "id": "7a9962d9"
    },
    {
      "cell_type": "code",
      "metadata": {},
      "source": [
        "import os\n",
        "import sys\n",
        "from contextlib import contextmanager\n",
        "from pyPLNmodels import PlnLDA, plot_confusion_matrix\n",
        "\n",
        "@contextmanager\n",
        "def suppress_stdout():\n",
        "    with open(os.devnull, 'w') as devnull:\n",
        "        old_stdout = sys.stdout\n",
        "        sys.stdout = devnull\n",
        "        try:\n",
        "            yield\n",
        "        finally:\n",
        "            sys.stdout = old_stdout"
      ],
      "id": "3e05ad30",
      "execution_count": null,
      "outputs": []
    },
    {
      "cell_type": "code",
      "metadata": {},
      "source": [
        "#| echo: true\n",
        "from sklearn.model_selection import train_test_split\n",
        "from sklearn.discriminant_analysis import LinearDiscriminantAnalysis as LDA\n",
        "\n",
        "def get_classif_error(data, y):\n",
        "    data_train, data_test, y_train, y_test = train_test_split(data, y, test_size=0.33, random_state=42)\n",
        "    lda = LDA()\n",
        "    lda.fit(data_train, y_train)\n",
        "    y_pred = lda.predict(data_test)\n",
        "    return np.mean(y_pred != y_test)"
      ],
      "id": "9edd432c",
      "execution_count": null,
      "outputs": []
    },
    {
      "cell_type": "markdown",
      "metadata": {},
      "source": [
        "### Classif error on raw counts"
      ],
      "id": "a46c2faa"
    },
    {
      "cell_type": "code",
      "metadata": {},
      "source": [
        "#| echo: true\n",
        "rna = load_scrna(n_samples = 1000)\n",
        "print('Classif error:',get_classif_error(rna[\"endog\"], rna[\"labels\"]))"
      ],
      "id": "39a5a0b6",
      "execution_count": null,
      "outputs": []
    },
    {
      "cell_type": "markdown",
      "metadata": {},
      "source": [
        "---\n",
        "\n",
        "### Classif error on inferred latent space"
      ],
      "id": "ef78f0d7"
    },
    {
      "cell_type": "code",
      "metadata": {},
      "source": [
        "#| echo: true\n",
        "from pyPLNmodels import Pln\n",
        "latent_variables = Pln(rna[\"endog\"]).fit().latent_variables\n",
        "print(\"Classif error: \", get_classif_error(latent_variables, rna[\"labels\"]))"
      ],
      "id": "1e9821d7",
      "execution_count": null,
      "outputs": []
    },
    {
      "cell_type": "raw",
      "metadata": {},
      "source": [
        "---"
      ],
      "id": "74d3471e"
    },
    {
      "cell_type": "markdown",
      "metadata": {},
      "source": [
        "### Qualitative assessment\n",
        "\n",
        "<img src=\"figures/plnpca_vs_pca_french.png\" width=\"100%\">\n",
        "\n",
        "\n",
        "# `pyPLNmodels`: introduction\n",
        "\n",
        "## How to fit a model\n",
        "\n",
        "### Like R-formula\n"
      ],
      "id": "99562ba3"
    },
    {
      "cell_type": "code",
      "metadata": {},
      "source": [
        "# | echo: true\n",
        "from pyPLNmodels import Pln\n",
        "pln = Pln.from_formula(\"endog ~ labels \", data = rna)\n",
        "_ = pln.fit()"
      ],
      "id": "4735bf5e",
      "execution_count": null,
      "outputs": []
    },
    {
      "cell_type": "markdown",
      "metadata": {},
      "source": [
        "### Explicitly\n"
      ],
      "id": "08a6a0a4"
    },
    {
      "cell_type": "code",
      "metadata": {},
      "source": [
        "# | echo: true\n",
        "from pyPLNmodels import Pln\n",
        "pln = Pln(rna[\"endog\"], exog = rna[\"labels_1hot\"], add_const = False)\n",
        "_ = pln.fit()"
      ],
      "id": "3a481a45",
      "execution_count": null,
      "outputs": []
    },
    {
      "cell_type": "markdown",
      "metadata": {},
      "source": [
        "---\n",
        "\n",
        "### Attributes and method\n",
        "Available when calling `print(model)`:"
      ],
      "id": "a54ef34a"
    },
    {
      "cell_type": "code",
      "metadata": {},
      "source": [
        "# | echo: true\n",
        "print(pln)"
      ],
      "id": "33acaab4",
      "execution_count": null,
      "outputs": []
    },
    {
      "cell_type": "raw",
      "metadata": {},
      "source": [
        "---"
      ],
      "id": "780e1417"
    },
    {
      "cell_type": "markdown",
      "metadata": {},
      "source": [
        "## Insights\n"
      ],
      "id": "c85c735d"
    },
    {
      "cell_type": "code",
      "metadata": {},
      "source": [
        "# | echo: true\n",
        "pln.show(figsize = (10, 8))"
      ],
      "id": "11979cb2",
      "execution_count": null,
      "outputs": []
    },
    {
      "cell_type": "markdown",
      "metadata": {},
      "source": [
        "## Insights"
      ],
      "id": "6fa42072"
    },
    {
      "cell_type": "code",
      "metadata": {},
      "source": [
        "# | echo: true\n",
        "pln.plot_regression_forest()"
      ],
      "id": "c5b208b6",
      "execution_count": null,
      "outputs": []
    },
    {
      "cell_type": "markdown",
      "metadata": {},
      "source": [
        "## Genes correlation\n"
      ],
      "id": "300ab576"
    },
    {
      "cell_type": "code",
      "metadata": {},
      "source": [
        "# | echo: true\n",
        "from pyPLNmodels import PlnNetwork\n",
        "net = PlnNetwork(rna[\"endog\"], penalty = 2000, compute_offsets_method = \"logsum\").fit()\n",
        "fig, ax = plt.subplots(1, 1, figsize = (12, 5))\n",
        "net.viz_network(ax=ax)"
      ],
      "id": "5c364862",
      "execution_count": null,
      "outputs": []
    },
    {
      "cell_type": "markdown",
      "metadata": {},
      "source": [
        "## predict newly observed data\n",
        "\n",
        "`PlnLDA` allows to predict new data:"
      ],
      "id": "abc863db"
    },
    {
      "cell_type": "code",
      "metadata": {
        "results": "hide"
      },
      "source": [
        "#| echo: true\n",
        "from pyPLNmodels import PlnLDA, plot_confusion_matrix\n",
        "ntrain = 500\n",
        "endog_train, endog_test = rna[\"endog\"][:ntrain],rna[\"endog\"][ntrain:]\n",
        "labels_train, labels_test = rna[\"labels\"][:ntrain], rna[\"labels\"][ntrain:]\n",
        "lda = PlnLDA(endog_train, clusters = labels_train).fit()"
      ],
      "id": "fd782c45",
      "execution_count": null,
      "outputs": []
    },
    {
      "cell_type": "code",
      "metadata": {},
      "source": [
        "pred_test = lda.predict_clusters(endog_test)\n",
        "plot_confusion_matrix(pred_test, labels_test)"
      ],
      "id": "d0a7daa0",
      "execution_count": null,
      "outputs": []
    },
    {
      "cell_type": "markdown",
      "metadata": {},
      "source": [
        "---\n",
        "\n",
        "\n",
        "::: {.panel-tabset}\n",
        "\n",
        "### Training\n"
      ],
      "id": "04ae950c"
    },
    {
      "cell_type": "code",
      "metadata": {},
      "source": [
        "#| code-line-numbers: \"4-7|8-9\"\n",
        "#| echo: true\n",
        "from pyPLNmodels import PlnLDA, plot_confusion_matrix\n",
        "ntrain = 500\n",
        "endog_train, endog_test = rna[\"endog\"][:ntrain],rna[\"endog\"][ntrain:]\n",
        "labels_train, labels_test = rna[\"labels\"][:ntrain], rna[\"labels\"][ntrain:]\n",
        "lda = PlnLDA(endog_train, clusters = labels_train).fit()\n",
        "pred_test = lda.predict_clusters(endog_test)"
      ],
      "id": "7574daf7",
      "execution_count": null,
      "outputs": []
    },
    {
      "cell_type": "markdown",
      "metadata": {},
      "source": [
        "### Confusion matrix\n"
      ],
      "id": "bbd8c7bc"
    },
    {
      "cell_type": "code",
      "metadata": {},
      "source": [
        "# | echo: true\n",
        "plot_confusion_matrix(pred_test, labels_test)"
      ],
      "id": "285e866e",
      "execution_count": null,
      "outputs": []
    },
    {
      "cell_type": "markdown",
      "metadata": {},
      "source": [
        ":::\n",
        "\n",
        "## Zero-inflation investigation\n"
      ],
      "id": "50d5b737"
    },
    {
      "cell_type": "code",
      "metadata": {},
      "source": [
        "# | echo: true\n",
        "import seaborn as sns\n",
        "from pyPLNmodels import ZIPln\n",
        "zi = ZIPln(rna[\"endog\"]).fit()\n",
        "sns.heatmap(zi.latent_prob)\n",
        "plt.show()"
      ],
      "id": "c81d7a1b",
      "execution_count": null,
      "outputs": []
    }
  ],
  "metadata": {
    "kernelspec": {
      "name": "python3",
      "language": "python",
      "display_name": "Python 3 (ipykernel)"
    }
  },
  "nbformat": 4,
  "nbformat_minor": 5
}